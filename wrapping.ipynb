{
 "cells": [
  {
   "cell_type": "code",
   "execution_count": 17,
   "metadata": {},
   "outputs": [
    {
     "name": "stdout",
     "output_type": "stream",
     "text": [
      " * Serving Flask app '__main__'\n",
      " * Debug mode: off\n"
     ]
    },
    {
     "name": "stderr",
     "output_type": "stream",
     "text": [
      "WARNING: This is a development server. Do not use it in a production deployment. Use a production WSGI server instead.\n",
      " * Running on http://127.0.0.1:5000\n",
      "Press CTRL+C to quit\n",
      "127.0.0.1 - - [04/Jul/2024 15:57:59] \"GET /hello HTTP/1.1\" 302 -\n"
     ]
    }
   ],
   "source": [
    "from flask import Flask, render_template,request,redirect, url_for\n",
    "\n",
    "app=Flask(__name__)\n",
    "@app.route('/',methods=['GET','POST'])\n",
    "def hello_world():\n",
    "    if request.method=='GET':\n",
    "        return render_template('page.html')\n",
    "    if request.method=='POST':\n",
    "        name=request.form['name']\n",
    "        print(name)\n",
    "        return 'POST'\n",
    "    \n",
    "@app.route('/hello')\n",
    "def hello():\n",
    "    return redirect('https://www.baidu.com')\n",
    "    # return redirect(url_for('hello_world'))\n",
    "app.run()"
   ]
  }
 ],
 "metadata": {
  "kernelspec": {
   "display_name": "opencv",
   "language": "python",
   "name": "python3"
  },
  "language_info": {
   "codemirror_mode": {
    "name": "ipython",
    "version": 3
   },
   "file_extension": ".py",
   "mimetype": "text/x-python",
   "name": "python",
   "nbconvert_exporter": "python",
   "pygments_lexer": "ipython3",
   "version": "3.8.19"
  }
 },
 "nbformat": 4,
 "nbformat_minor": 2
}
